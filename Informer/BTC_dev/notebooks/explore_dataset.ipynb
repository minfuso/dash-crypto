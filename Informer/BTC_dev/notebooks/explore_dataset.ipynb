{
 "cells": [
  {
   "cell_type": "code",
   "execution_count": 1,
   "id": "f49e4e63",
   "metadata": {},
   "outputs": [],
   "source": [
    "from Informer.training.data_preparation import data_preparation"
   ]
  },
  {
   "cell_type": "code",
   "execution_count": 2,
   "id": "839b6a47",
   "metadata": {},
   "outputs": [
    {
     "name": "stderr",
     "output_type": "stream",
     "text": [
      "2025-09-06 12:33:32,834 - INFO - Logger initialized: logs/data_prep_seq24_run1.log\n"
     ]
    },
    {
     "ename": "AttributeError",
     "evalue": "'list' object has no attribute 'items'",
     "output_type": "error",
     "traceback": [
      "\u001b[31m---------------------------------------------------------------------------\u001b[39m",
      "\u001b[31mAttributeError\u001b[39m                            Traceback (most recent call last)",
      "\u001b[36mCell\u001b[39m\u001b[36m \u001b[39m\u001b[32mIn[2]\u001b[39m\u001b[32m, line 1\u001b[39m\n\u001b[32m----> \u001b[39m\u001b[32m1\u001b[39m \u001b[43mdata_preparation\u001b[49m\u001b[43m(\u001b[49m\u001b[43mconfig_path\u001b[49m\u001b[43m=\u001b[49m\u001b[33;43m\"\u001b[39;49m\u001b[33;43m/mnt/Molynx/Portfolio/Dashboard_crypto/Informer/BTC_dev/configs/data_config.yaml\u001b[39;49m\u001b[33;43m\"\u001b[39;49m\u001b[43m)\u001b[49m  \u001b[38;5;66;03m# This will create the data folder with all the datasets\u001b[39;00m\n",
      "\u001b[36mFile \u001b[39m\u001b[32m/mnt/Molynx/Portfolio/Dashboard_crypto/Informer/BTC_dev/src/Informer/training/data_preparation.py:19\u001b[39m, in \u001b[36mdata_preparation\u001b[39m\u001b[34m(config_path)\u001b[39m\n\u001b[32m     16\u001b[39m logger = setup_logger(config[\u001b[33m\"\u001b[39m\u001b[33mlogging\u001b[39m\u001b[33m\"\u001b[39m][\u001b[33m\"\u001b[39m\u001b[33mlog_dir\u001b[39m\u001b[33m\"\u001b[39m], config[\u001b[33m\"\u001b[39m\u001b[33mlogging\u001b[39m\u001b[33m\"\u001b[39m][\u001b[33m\"\u001b[39m\u001b[33mlog_name\u001b[39m\u001b[33m\"\u001b[39m])\n\u001b[32m     18\u001b[39m \u001b[38;5;66;03m# Construire les séquences\u001b[39;00m\n\u001b[32m---> \u001b[39m\u001b[32m19\u001b[39m X, Y = \u001b[43mbuild_sequences_from_files\u001b[49m\u001b[43m(\u001b[49m\n\u001b[32m     20\u001b[39m \u001b[43m    \u001b[49m\u001b[43mfiles\u001b[49m\u001b[43m=\u001b[49m\u001b[43mconfig\u001b[49m\u001b[43m[\u001b[49m\u001b[33;43m\"\u001b[39;49m\u001b[33;43mfiles\u001b[39;49m\u001b[33;43m\"\u001b[39;49m\u001b[43m]\u001b[49m\u001b[43m,\u001b[49m\n\u001b[32m     21\u001b[39m \u001b[43m    \u001b[49m\u001b[43mfeature_config\u001b[49m\u001b[43m=\u001b[49m\u001b[43mconfig\u001b[49m\u001b[43m[\u001b[49m\u001b[33;43m\"\u001b[39;49m\u001b[33;43mfeatures\u001b[39;49m\u001b[33;43m\"\u001b[39;49m\u001b[43m]\u001b[49m\u001b[43m,\u001b[49m\n\u001b[32m     22\u001b[39m \u001b[43m    \u001b[49m\u001b[43mtarget\u001b[49m\u001b[43m=\u001b[49m\u001b[43mconfig\u001b[49m\u001b[43m[\u001b[49m\u001b[33;43m\"\u001b[39;49m\u001b[33;43mtarget\u001b[39;49m\u001b[33;43m\"\u001b[39;49m\u001b[43m]\u001b[49m\u001b[43m,\u001b[49m\n\u001b[32m     23\u001b[39m \u001b[43m    \u001b[49m\u001b[43msequence_length\u001b[49m\u001b[43m=\u001b[49m\u001b[43mconfig\u001b[49m\u001b[43m[\u001b[49m\u001b[33;43m\"\u001b[39;49m\u001b[33;43msequence_length\u001b[39;49m\u001b[33;43m\"\u001b[39;49m\u001b[43m]\u001b[49m\n\u001b[32m     24\u001b[39m \u001b[43m\u001b[49m\u001b[43m)\u001b[49m\n\u001b[32m     25\u001b[39m logger.info(\u001b[33mf\u001b[39m\u001b[33m\"\u001b[39m\u001b[33mBuilt sequences: X=\u001b[39m\u001b[38;5;132;01m{\u001b[39;00mX.shape\u001b[38;5;132;01m}\u001b[39;00m\u001b[33m, Y=\u001b[39m\u001b[38;5;132;01m{\u001b[39;00mY.shape\u001b[38;5;132;01m}\u001b[39;00m\u001b[33m\"\u001b[39m)\n\u001b[32m     27\u001b[39m \u001b[38;5;66;03m# Split train/val/test\u001b[39;00m\n",
      "\u001b[36mFile \u001b[39m\u001b[32m/mnt/Molynx/Portfolio/Dashboard_crypto/Informer/BTC_dev/src/Informer/data/windowing.py:40\u001b[39m, in \u001b[36mbuild_sequences_from_files\u001b[39m\u001b[34m(files, feature_config, target, sequence_length)\u001b[39m\n\u001b[32m     37\u001b[39m     \u001b[38;5;28;01mraise\u001b[39;00m \u001b[38;5;167;01mValueError\u001b[39;00m(\u001b[33mf\u001b[39m\u001b[33m\"\u001b[39m\u001b[33mNaN values found in file \u001b[39m\u001b[38;5;132;01m{\u001b[39;00mf\u001b[38;5;132;01m}\u001b[39;00m\u001b[33m. Please clean the data before processing.\u001b[39m\u001b[33m\"\u001b[39m)\n\u001b[32m     39\u001b[39m \u001b[38;5;66;03m# Standardization\u001b[39;00m\n\u001b[32m---> \u001b[39m\u001b[32m40\u001b[39m df, scalers = \u001b[43mnormalize_dataframe\u001b[49m\u001b[43m(\u001b[49m\n\u001b[32m     41\u001b[39m \u001b[43m    \u001b[49m\u001b[43mdf\u001b[49m\u001b[43m,\u001b[49m\n\u001b[32m     42\u001b[39m \u001b[43m    \u001b[49m\u001b[43mfeature_config\u001b[49m\u001b[43m=\u001b[49m\u001b[43mfeatures\u001b[49m\u001b[43m,\u001b[49m\n\u001b[32m     43\u001b[39m \u001b[43m\u001b[49m\u001b[43m)\u001b[49m\n\u001b[32m     45\u001b[39m \u001b[38;5;66;03m# Extraction\u001b[39;00m\n\u001b[32m     46\u001b[39m X = df[features].values\n",
      "\u001b[36mFile \u001b[39m\u001b[32m/mnt/Molynx/Portfolio/Dashboard_crypto/Informer/BTC_dev/src/Informer/data/normalization.py:22\u001b[39m, in \u001b[36mnormalize_dataframe\u001b[39m\u001b[34m(df, feature_config, scalers)\u001b[39m\n\u001b[32m     19\u001b[39m df = df.copy()\n\u001b[32m     20\u001b[39m fitted_scalers = {} \u001b[38;5;28;01mif\u001b[39;00m scalers \u001b[38;5;129;01mis\u001b[39;00m \u001b[38;5;28;01mNone\u001b[39;00m \u001b[38;5;28;01melse\u001b[39;00m scalers\n\u001b[32m---> \u001b[39m\u001b[32m22\u001b[39m \u001b[38;5;28;01mfor\u001b[39;00m feature, method \u001b[38;5;129;01min\u001b[39;00m \u001b[43mfeature_config\u001b[49m\u001b[43m.\u001b[49m\u001b[43mitems\u001b[49m():\n\u001b[32m     23\u001b[39m     func = \u001b[38;5;28mgetattr\u001b[39m(norm, method)  \u001b[38;5;66;03m# récupère la bonne fonction\u001b[39;00m\n\u001b[32m     24\u001b[39m     df[feature], fitted_scalers[feature] = func(\n\u001b[32m     25\u001b[39m         df[feature], scaler=fitted_scalers.get(feature)\n\u001b[32m     26\u001b[39m     )\n",
      "\u001b[31mAttributeError\u001b[39m: 'list' object has no attribute 'items'"
     ]
    }
   ],
   "source": [
    "data_preparation(config_path=\"/mnt/Molynx/Portfolio/Dashboard_crypto/Informer/BTC_dev/configs/data_config.yaml\")  # This will create the data folder with all the datasets"
   ]
  },
  {
   "cell_type": "code",
   "execution_count": 3,
   "id": "e0d36b48",
   "metadata": {},
   "outputs": [],
   "source": [
    "a_dict = {\"key_1\": \"value_1\", \"key_2\": \"value_2\"}"
   ]
  },
  {
   "cell_type": "code",
   "execution_count": 4,
   "id": "84cbec4e",
   "metadata": {},
   "outputs": [
    {
     "name": "stdout",
     "output_type": "stream",
     "text": [
      "key_1 value_1\n",
      "key_2 value_2\n"
     ]
    }
   ],
   "source": [
    " for feature, method in a_dict.items():\n",
    "     print(feature, method)"
   ]
  },
  {
   "cell_type": "code",
   "execution_count": 9,
   "id": "ad82ae8e",
   "metadata": {},
   "outputs": [
    {
     "data": {
      "text/plain": [
       "['key_1', 'key_2']"
      ]
     },
     "execution_count": 9,
     "metadata": {},
     "output_type": "execute_result"
    }
   ],
   "source": [
    "list(a_dict.keys())"
   ]
  },
  {
   "cell_type": "code",
   "execution_count": null,
   "id": "620ec246",
   "metadata": {},
   "outputs": [],
   "source": []
  }
 ],
 "metadata": {
  "kernelspec": {
   "display_name": "dash-crypto",
   "language": "python",
   "name": "python3"
  },
  "language_info": {
   "codemirror_mode": {
    "name": "ipython",
    "version": 3
   },
   "file_extension": ".py",
   "mimetype": "text/x-python",
   "name": "python",
   "nbconvert_exporter": "python",
   "pygments_lexer": "ipython3",
   "version": "3.13.5"
  }
 },
 "nbformat": 4,
 "nbformat_minor": 5
}
